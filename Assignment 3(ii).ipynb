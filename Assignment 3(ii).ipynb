{
 "cells": [
  {
   "cell_type": "code",
   "execution_count": 1,
   "id": "eb3de818",
   "metadata": {},
   "outputs": [
    {
     "name": "stdout",
     "output_type": "stream",
     "text": [
      "enter the first number: 12\n",
      "enter the second number: 12\n",
      "sum of numbers is:  24\n"
     ]
    }
   ],
   "source": [
    "#6. Write a python program which takes two inputs from user and print them addition\n",
    "num1=int(input(\"enter the first number: \"));\n",
    "num2=int(input(\"enter the second number: \"));\n",
    "sum=int(num1)+int(num2);\n",
    "print(\"sum of numbers is: \", sum);"
   ]
  },
  {
   "cell_type": "code",
   "execution_count": 2,
   "id": "52a09417",
   "metadata": {},
   "outputs": [
    {
     "name": "stdout",
     "output_type": "stream",
     "text": [
      "Enter marks of the first subject: 92\n",
      "Enter marks of the second subject: 99\n",
      "Enter marks of the third subject: 98\n",
      "Enter marks of the fourth subject: 97\n",
      "Enter marks of the fifth subject: 97\n",
      "enter the total marks: 500\n",
      "your grade is: A\n"
     ]
    }
   ],
   "source": [
    "#  7. Write a program which takes 5 inputs from user for different subject’s marks, total it\n",
    "# and generate mark sheet using grades ?\n",
    "sub1=int(input(\"Enter marks of the first subject: \"))\n",
    "sub2=int(input(\"Enter marks of the second subject: \"))\n",
    "sub3=int(input(\"Enter marks of the third subject: \"))\n",
    "sub4=int(input(\"Enter marks of the fourth subject: \"))\n",
    "sub5=int(input(\"Enter marks of the fifth subject: \"))\n",
    "total_marks=int(input(\"enter the total marks: \"))\n",
    "sum_of_marks=sub1+sub2+sub3+sub4+sub5;\n",
    "percentage=(sum_of_marks/total_marks)*100;\n",
    "if(percentage>=90 and percentage<=100):\n",
    "    print(\"your grade is: A\");\n",
    "elif(percentage>=80 and percentage<=89):\n",
    "    print(\"your grade is: B\");\n",
    "elif(percentage>=70 and percentage<=79):\n",
    "    print(\"your grade is: C\");\n",
    "elif(percentage>=60 and percentage<=69):\n",
    "    print(\"your grade is: D\");\n",
    "elif(percentage>=50 and percentage<=59):\n",
    "    print(\"your grade is: E\");\n",
    "elif(percentage>=0 and percentage<=49):\n",
    "    print(\"your grade is: F\");\n",
    "else:\n",
    "    print(\"Error occured\");"
   ]
  },
  {
   "cell_type": "code",
   "execution_count": 5,
   "id": "6bf48c0a",
   "metadata": {},
   "outputs": [
    {
     "name": "stdout",
     "output_type": "stream",
     "text": [
      "enter the number: 67\n",
      "number is odd\n"
     ]
    }
   ],
   "source": [
    "# 8. Write a program which take input from user and identify that the given number is even\n",
    "# or odd?\n",
    "num=int(input(\"enter the number: \"));\n",
    "if(num%2==0):\n",
    "    print(\"number is even\");\n",
    "elif(num%2!=0):\n",
    "    print(\"number is odd\");\n",
    "else:\n",
    "    print(\"Ivalid input\");"
   ]
  },
  {
   "cell_type": "code",
   "execution_count": 7,
   "id": "4eb11282",
   "metadata": {},
   "outputs": [
    {
     "name": "stdout",
     "output_type": "stream",
     "text": [
      "8\n"
     ]
    }
   ],
   "source": [
    "# 9. Write a program which print the length of the list?\n",
    "list=[1,2,67,89,90,87,54,63]\n",
    "print(len(list))"
   ]
  },
  {
   "cell_type": "code",
   "execution_count": 8,
   "id": "606e670c",
   "metadata": {},
   "outputs": [
    {
     "name": "stdout",
     "output_type": "stream",
     "text": [
      "133\n"
     ]
    }
   ],
   "source": [
    "# 10.Write a Python program to sum all the numeric items in a list?\n",
    "def sum_list(items):\n",
    "    sum_numbers = 0\n",
    "    for x in items:\n",
    "        sum_numbers += x\n",
    "    return sum_numbers\n",
    "print(sum_list([41,12,80]))"
   ]
  },
  {
   "cell_type": "code",
   "execution_count": 9,
   "id": "e6dbb74a",
   "metadata": {},
   "outputs": [
    {
     "name": "stdout",
     "output_type": "stream",
     "text": [
      "Largest element is: 45\n"
     ]
    }
   ],
   "source": [
    "#11.Write a Python program to get the largest number from a numeric list.\n",
    "list1 = [10, 23, 40, 45, -87]\n",
    "print(\"Largest element is:\", max(list1))"
   ]
  },
  {
   "cell_type": "code",
   "execution_count": 10,
   "id": "1d69ca14",
   "metadata": {},
   "outputs": [
    {
     "name": "stdout",
     "output_type": "stream",
     "text": [
      "1\n",
      "1\n",
      "2\n",
      "3\n"
     ]
    }
   ],
   "source": [
    "# 12. Take a list, say for example this one:\n",
    "# a = [1, 1, 2, 3, 5, 8, 13, 21, 34, 55, 89]\n",
    "# Write a program that prints out all the elements of the list that are less than 5.\n",
    "a = [1, 1, 2, 3, 5, 8, 13, 21, 34, 55, 89]\n",
    "\n",
    "for i in a:\n",
    "\n",
    "    if i < 5:\n",
    "\n",
    "        print(i);"
   ]
  },
  {
   "cell_type": "code",
   "execution_count": null,
   "id": "840f6c35",
   "metadata": {},
   "outputs": [],
   "source": []
  }
 ],
 "metadata": {
  "kernelspec": {
   "display_name": "Python 3",
   "language": "python",
   "name": "python3"
  },
  "language_info": {
   "codemirror_mode": {
    "name": "ipython",
    "version": 3
   },
   "file_extension": ".py",
   "mimetype": "text/x-python",
   "name": "python",
   "nbconvert_exporter": "python",
   "pygments_lexer": "ipython3",
   "version": "3.8.8"
  }
 },
 "nbformat": 4,
 "nbformat_minor": 5
}
